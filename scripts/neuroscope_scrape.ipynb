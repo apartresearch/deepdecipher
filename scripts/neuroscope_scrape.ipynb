{
 "cells": [
  {
   "cell_type": "code",
   "execution_count": null,
   "metadata": {},
   "outputs": [],
   "source": [
    "import requests\n",
    "import os"
   ]
  },
  {
   "cell_type": "code",
   "execution_count": null,
   "metadata": {},
   "outputs": [],
   "source": [
    "def get_neuron_page(model: str, layer_index: int, neuron_index: int) -> str:\n",
    "    \"\"\"Get the page for a single neuron from the Neuroscope website.\"\"\"\n",
    "    url = f\"https://neuroscope.io/{model}/{layer_index}/{neuron_index}.html\"\n",
    "    response = requests.get(url)\n",
    "    return response.text"
   ]
  },
  {
   "cell_type": "code",
   "execution_count": null,
   "metadata": {},
   "outputs": [],
   "source": [
    "models = [\n",
    "    \"solu-1l      \",\n",
    "    \"gelu-1l      \",\n",
    "    \"solu-2l      \",\n",
    "    \"gelu-2l      \",\n",
    "    \"solu-3l      \",\n",
    "    \"gelu-3l      \",\n",
    "    \"solu-4l      \",\n",
    "    \"gelu-4l      \",\n",
    "    \"solu-6l      \",\n",
    "    \"solu-8l      \",\n",
    "    \"solu-10l     \",\n",
    "    \"solu-12l     \",\n",
    "    \"gpt2-small   \",\n",
    "    \"gpt2-medium  \",\n",
    "    \"gpt2-large   \",\n",
    "    \"gpt2-xl      \",\n",
    "    \"solu-1l-pile \",\n",
    "    \"solu-4l-pile \",\n",
    "    \"solu-2l-pile \",\n",
    "    \"solu-6l-pile \",\n",
    "    \"solu-8l-pile \",\n",
    "    \"solu-10l-pile\",\n",
    "    \"pythia-70m    \",\n",
    "    \"pythia-160m   \",\n",
    "    \"pythia-350m   \",\n",
    "]\n",
    "models = [model.strip() for model in models]"
   ]
  },
  {
   "cell_type": "code",
   "execution_count": null,
   "metadata": {},
   "outputs": [],
   "source": [
    "if False:\n",
    "    for model in models:\n",
    "        neuron_page = get_neuron_page(model, 0, 0)\n",
    "        open(f\"../data/{model}.html\", \"w\").write(neuron_page)"
   ]
  },
  {
   "cell_type": "code",
   "execution_count": 2,
   "metadata": {},
   "outputs": [],
   "source": [
    "import neuronav as nrnv"
   ]
  },
  {
   "cell_type": "code",
   "execution_count": 3,
   "metadata": {},
   "outputs": [],
   "source": [
    "nrnv.scrape_model_metadata_to_file(\"../data\", \"solu-6l\")"
   ]
  }
 ],
 "metadata": {
  "kernelspec": {
   "display_name": "neuronav",
   "language": "python",
   "name": "python3"
  },
  "language_info": {
   "codemirror_mode": {
    "name": "ipython",
    "version": 3
   },
   "file_extension": ".py",
   "mimetype": "text/x-python",
   "name": "python",
   "nbconvert_exporter": "python",
   "pygments_lexer": "ipython3",
   "version": "3.11.3"
  },
  "orig_nbformat": 4
 },
 "nbformat": 4,
 "nbformat_minor": 2
}
