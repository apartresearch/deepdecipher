{
 "cells": [
  {
   "cell_type": "code",
   "execution_count": 1,
   "metadata": {},
   "outputs": [],
   "source": [
    "import requests"
   ]
  },
  {
   "cell_type": "code",
   "execution_count": 4,
   "metadata": {},
   "outputs": [],
   "source": [
    "def get_neuron_page(model: str, layer_index: int, neuron_index: int) -> str:\n",
    "    \"\"\"Get the page for a single neuron from the Neuroscope website.\"\"\"\n",
    "    url = f\"https://neuroscope.io/{model}/{layer_index}/{neuron_index}.html\"\n",
    "    response = requests.get(url)\n",
    "    return response.text"
   ]
  },
  {
   "cell_type": "code",
   "execution_count": 1,
   "metadata": {},
   "outputs": [],
   "source": [
    "models = [\n",
    "    \"solu-1l      \",\n",
    "    \"gelu-1l      \",\n",
    "    \"solu-2l      \",\n",
    "    \"gelu-2l      \",\n",
    "    \"solu-3l      \",\n",
    "    \"gelu-3l      \",\n",
    "    \"solu-4l      \",\n",
    "    \"gelu-4l      \",\n",
    "    \"solu-6l      \",\n",
    "    \"solu-8l      \",\n",
    "    \"solu-10l     \",\n",
    "    \"solu-12l     \",\n",
    "    \"gpt2-small   \",\n",
    "    \"gpt2-medium  \",\n",
    "    \"gpt2-large   \",\n",
    "    \"gpt2-xl      \",\n",
    "    \"solu-1l-pile \",\n",
    "    \"solu-4l-pile \",\n",
    "    \"solu-2l-pile \",\n",
    "    \"solu-6l-pile \",\n",
    "    \"solu-8l-pile \",\n",
    "    \"solu-10l-pile\",\n",
    "    \"pythia-70    \",\n",
    "    \"pythia-160   \",\n",
    "    \"pythia-350   \",\n",
    "]\n",
    "models = [model.strip() for model in models]"
   ]
  },
  {
   "cell_type": "code",
   "execution_count": null,
   "metadata": {},
   "outputs": [],
   "source": [
    "for model in models:\n",
    "    page = get_neuron_page(model, 0, 0)\n",
    "    with open(f\"../data/neuroscope_{model}_0_0.html\", \"w\") as f:\n",
    "        f.write(page)"
   ]
  },
  {
   "cell_type": "code",
   "execution_count": 2,
   "metadata": {},
   "outputs": [],
   "source": [
    "import neuronav as nrnv"
   ]
  },
  {
   "cell_type": "code",
   "execution_count": 3,
   "metadata": {},
   "outputs": [
    {
     "data": {
      "text/plain": [
       "'NeuroscopePage { neuron_index: 0, layer_index: 0, texts: [Text { max_activating_token_index: 1002, max_range: 0.0397, min_range: -0.0397, max_act: 0.0397, min_act: -0.0003, data_index: 1598601 }, Text { max_activating_token_index: 216, max_range: 0.0397, min_range: -0.0397, max_act: 0.0385, min_act: -0.0003, data_index: 1453648 }, Text { max_activating_token_index: 998, max_range: 0.0397, min_range: -0.0397, max_act: 0.0374, min_act: -0.0003, data_index: 1558884 }, Text { max_activating_token_index: 1000, max_range: 0.0397, min_range: -0.0397, max_act: 0.0357, min_act: -0.0003, data_index: 333382 }, Text { max_activating_token_index: 763, max_range: 0.0397, min_range: -0.0397, max_act: 0.0373, min_act: -0.0003, data_index: 1084941 }, Text { max_activating_token_index: 748, max_range: 0.0397, min_range: -0.0397, max_act: 0.0359, min_act: -0.0003, data_index: 749778 }, Text { max_activating_token_index: 882, max_range: 0.0397, min_range: -0.0397, max_act: 0.0352, min_act: -0.0003, data_index: 1050709 }, Text { max_activating_token_index: 155, max_range: 0.0397, min_range: -0.0397, max_act: 0.0358, min_act: -0.0003, data_index: 405655 }, Text { max_activating_token_index: 72, max_range: 0.0397, min_range: -0.0397, max_act: 0.0356, min_act: -0.0003, data_index: 507576 }, Text { max_activating_token_index: 303, max_range: 0.0397, min_range: -0.0397, max_act: 0.0349, min_act: -0.0003, data_index: 1450439 }, Text { max_activating_token_index: 695, max_range: 0.0397, min_range: -0.0397, max_act: 0.0342, min_act: -0.0003, data_index: 257699 }, Text { max_activating_token_index: 476, max_range: 0.0397, min_range: -0.0397, max_act: 0.034, min_act: -0.0003, data_index: 1462001 }, Text { max_activating_token_index: 221, max_range: 0.0397, min_range: -0.0397, max_act: 0.0336, min_act: -0.0003, data_index: 565026 }, Text { max_activating_token_index: 168, max_range: 0.0397, min_range: -0.0397, max_act: 0.0329, min_act: -0.0003, data_index: 1543432 }, Text { max_activating_token_index: 867, max_range: 0.0397, min_range: -0.0397, max_act: 0.0328, min_act: -0.0003, data_index: 438830 }, Text { max_activating_token_index: 562, max_range: 0.0397, min_range: -0.0397, max_act: 0.0327, min_act: -0.0003, data_index: 704851 }, Text { max_activating_token_index: 84, max_range: 0.0397, min_range: -0.0397, max_act: 0.0326, min_act: -0.0003, data_index: 1076399 }, Text { max_activating_token_index: 468, max_range: 0.0397, min_range: -0.0397, max_act: 0.0325, min_act: -0.0003, data_index: 1411771 }, Text { max_activating_token_index: 200, max_range: 0.0397, min_range: -0.0397, max_act: 0.0326, min_act: -0.0003, data_index: 1531106 }, Text { max_activating_token_index: 665, max_range: 0.0397, min_range: -0.0397, max_act: 0.0315, min_act: -0.0003, data_index: 1215237 }] }'"
      ]
     },
     "execution_count": 3,
     "metadata": {},
     "output_type": "execute_result"
    }
   ],
   "source": [
    "page = open(f\"../data/neuroscope_{models[0]}_0_0.html\").read()\n",
    "page = nrnv.NeuroscopePage(page, 0, 0)\n",
    "str(page)"
   ]
  }
 ],
 "metadata": {
  "kernelspec": {
   "display_name": "neuronav",
   "language": "python",
   "name": "python3"
  },
  "language_info": {
   "codemirror_mode": {
    "name": "ipython",
    "version": 3
   },
   "file_extension": ".py",
   "mimetype": "text/x-python",
   "name": "python",
   "nbconvert_exporter": "python",
   "pygments_lexer": "ipython3",
   "version": "3.11.3"
  },
  "orig_nbformat": 4
 },
 "nbformat": 4,
 "nbformat_minor": 2
}
