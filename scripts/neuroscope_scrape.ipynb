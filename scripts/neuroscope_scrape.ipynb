{
 "cells": [
  {
   "cell_type": "code",
   "execution_count": 1,
   "metadata": {},
   "outputs": [],
   "source": [
    "import requests"
   ]
  },
  {
   "cell_type": "code",
   "execution_count": 2,
   "metadata": {},
   "outputs": [],
   "source": [
    "def get_neuron_page(model: str, layer_index: int, neuron_index: int) -> str:\n",
    "    \"\"\"Get the page for a single neuron from the Neuroscope website.\"\"\"\n",
    "    url = f\"https://neuroscope.io/{model}/{layer_index}/{neuron_index}.html\"\n",
    "    response = requests.get(url)\n",
    "    return response.text"
   ]
  },
  {
   "cell_type": "code",
   "execution_count": 3,
   "metadata": {},
   "outputs": [],
   "source": [
    "models = [\n",
    "    \"solu-1l      \",\n",
    "    \"gelu-1l      \",\n",
    "    \"solu-2l      \",\n",
    "    \"gelu-2l      \",\n",
    "    \"solu-3l      \",\n",
    "    \"gelu-3l      \",\n",
    "    \"solu-4l      \",\n",
    "    \"gelu-4l      \",\n",
    "    \"solu-6l      \",\n",
    "    \"solu-8l      \",\n",
    "    \"solu-10l     \",\n",
    "    \"solu-12l     \",\n",
    "    \"gpt2-small   \",\n",
    "    \"gpt2-medium  \",\n",
    "    \"gpt2-large   \",\n",
    "    \"gpt2-xl      \",\n",
    "    \"solu-1l-pile \",\n",
    "    \"solu-4l-pile \",\n",
    "    \"solu-2l-pile \",\n",
    "    \"solu-6l-pile \",\n",
    "    \"solu-8l-pile \",\n",
    "    \"solu-10l-pile\",\n",
    "    \"pythia-70m    \",\n",
    "    \"pythia-160m   \",\n",
    "    \"pythia-350m   \",\n",
    "]\n",
    "models = [model.strip() for model in models]"
   ]
  },
  {
   "cell_type": "code",
   "execution_count": 4,
   "metadata": {},
   "outputs": [],
   "source": [
    "if False:\n",
    "    for model in models:\n",
    "        neuron_page = get_neuron_page(model, 0, 0)\n",
    "        open(f\"../data/{model}.html\", \"w\").write(neuron_page)"
   ]
  },
  {
   "cell_type": "code",
   "execution_count": 5,
   "metadata": {},
   "outputs": [],
   "source": [
    "import neuronav as nrnv"
   ]
  },
  {
   "cell_type": "code",
   "execution_count": 7,
   "metadata": {},
   "outputs": [
    {
     "ename": "FileNotFoundError",
     "evalue": "[Errno 2] No such file or directory: '../data/models/solu-1l/neuroscope/l0n0.json'",
     "output_type": "error",
     "traceback": [
      "\u001b[1;31m---------------------------------------------------------------------------\u001b[0m",
      "\u001b[1;31mFileNotFoundError\u001b[0m                         Traceback (most recent call last)",
      "Cell \u001b[1;32mIn[7], line 9\u001b[0m\n\u001b[0;32m      7\u001b[0m     \u001b[39mraise\u001b[39;00m re\n\u001b[0;32m      8\u001b[0m page_json \u001b[39m=\u001b[39m page\u001b[39m.\u001b[39mto_json()\n\u001b[1;32m----> 9\u001b[0m \u001b[39mopen\u001b[39;49m(\u001b[39mf\u001b[39;49m\u001b[39m\"\u001b[39;49m\u001b[39m../data/models/\u001b[39;49m\u001b[39m{\u001b[39;49;00mmodel\u001b[39m}\u001b[39;49;00m\u001b[39m/neuroscope/l0n0.json\u001b[39;49m\u001b[39m\"\u001b[39;49m, \u001b[39m\"\u001b[39;49m\u001b[39mw\u001b[39;49m\u001b[39m\"\u001b[39;49m)\u001b[39m.\u001b[39mwrite(page_json)\n",
      "File \u001b[1;32mc:\\Users\\alber\\miniconda3\\envs\\neuronav\\Lib\\site-packages\\IPython\\core\\interactiveshell.py:284\u001b[0m, in \u001b[0;36m_modified_open\u001b[1;34m(file, *args, **kwargs)\u001b[0m\n\u001b[0;32m    277\u001b[0m \u001b[39mif\u001b[39;00m file \u001b[39min\u001b[39;00m {\u001b[39m0\u001b[39m, \u001b[39m1\u001b[39m, \u001b[39m2\u001b[39m}:\n\u001b[0;32m    278\u001b[0m     \u001b[39mraise\u001b[39;00m \u001b[39mValueError\u001b[39;00m(\n\u001b[0;32m    279\u001b[0m         \u001b[39mf\u001b[39m\u001b[39m\"\u001b[39m\u001b[39mIPython won\u001b[39m\u001b[39m'\u001b[39m\u001b[39mt let you open fd=\u001b[39m\u001b[39m{\u001b[39;00mfile\u001b[39m}\u001b[39;00m\u001b[39m by default \u001b[39m\u001b[39m\"\u001b[39m\n\u001b[0;32m    280\u001b[0m         \u001b[39m\"\u001b[39m\u001b[39mas it is likely to crash IPython. If you know what you are doing, \u001b[39m\u001b[39m\"\u001b[39m\n\u001b[0;32m    281\u001b[0m         \u001b[39m\"\u001b[39m\u001b[39myou can use builtins\u001b[39m\u001b[39m'\u001b[39m\u001b[39m open.\u001b[39m\u001b[39m\"\u001b[39m\n\u001b[0;32m    282\u001b[0m     )\n\u001b[1;32m--> 284\u001b[0m \u001b[39mreturn\u001b[39;00m io_open(file, \u001b[39m*\u001b[39;49margs, \u001b[39m*\u001b[39;49m\u001b[39m*\u001b[39;49mkwargs)\n",
      "\u001b[1;31mFileNotFoundError\u001b[0m: [Errno 2] No such file or directory: '../data/models/solu-1l/neuroscope/l0n0.json'"
     ]
    }
   ],
   "source": [
    "for model in models:\n",
    "    page = open(f\"../data/{model}.html\").read()\n",
    "    try:\n",
    "        page = nrnv.NeuroscopePage(page, 0, 0)\n",
    "    except RuntimeError as re:\n",
    "        print(f\"Failed to load {model}\")\n",
    "        raise re\n",
    "    page_json = page.to_json()\n",
    "    os.mkdir(f\"../data/models/{model}/neuroscope\")\n",
    "    open(f\"../data/models/{model}/neuroscope/l0n0.json\", \"w\").write(page_json)"
   ]
  }
 ],
 "metadata": {
  "kernelspec": {
   "display_name": "neuronav",
   "language": "python",
   "name": "python3"
  },
  "language_info": {
   "codemirror_mode": {
    "name": "ipython",
    "version": 3
   },
   "file_extension": ".py",
   "mimetype": "text/x-python",
   "name": "python",
   "nbconvert_exporter": "python",
   "pygments_lexer": "ipython3",
   "version": "3.11.3"
  },
  "orig_nbformat": 4
 },
 "nbformat": 4,
 "nbformat_minor": 2
}
