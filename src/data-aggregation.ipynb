{
 "cells": [
  {
   "cell_type": "code",
   "execution_count": 1,
   "metadata": {},
   "outputs": [],
   "source": [
    "# Extract data from az://openaipublic/neuron-explainer/data/collated-activations/1/1.json\n",
    "\n",
    "import json\n",
    "import pandas as pd\n",
    "import numpy as np\n",
    "import os\n",
    "import glob\n",
    "import re\n",
    "import sys\n",
    "import time\n",
    "import datetime\n",
    "import logging\n",
    "import argparse\n",
    "import subprocess"
   ]
  },
  {
   "cell_type": "code",
   "execution_count": 22,
   "metadata": {},
   "outputs": [],
   "source": [
    "# Download data from az://openaipublic/neuron-explainer/data/collated-activations/1/1.json\n",
    "# to local directory\n",
    "def download_data(layer, neuron):\n",
    "    # Download data from Azure blob storage\n",
    "    os.makedirs('../data', exist_ok=True)\n",
    "    print(layer, neuron)\n",
    "    cmd = f\"azcopy copy \\\"https://openaipublic.blob.core.windows.net/neuron-explainer/data/collated-activations/{layer}/{neuron}.json\\\" \\\"../data\\\"\"\n",
    "    subprocess.call(cmd, shell=True)\n"
   ]
  },
  {
   "cell_type": "code",
   "execution_count": 23,
   "metadata": {},
   "outputs": [
    {
     "name": "stdout",
     "output_type": "stream",
     "text": [
      "1 1\n",
      "INFO: Scanning...\n",
      "INFO: Autologin not specified.\n",
      "\n",
      "failed to perform copy command due to error: Login Credentials missing. No SAS token or OAuth token is present and the resource is not public\n"
     ]
    }
   ],
   "source": [
    "download_data(1,1)"
   ]
  },
  {
   "cell_type": "code",
   "execution_count": null,
   "metadata": {},
   "outputs": [],
   "source": []
  }
 ],
 "metadata": {
  "kernelspec": {
   "display_name": "base",
   "language": "python",
   "name": "python3"
  },
  "language_info": {
   "codemirror_mode": {
    "name": "ipython",
    "version": 3
   },
   "file_extension": ".py",
   "mimetype": "text/x-python",
   "name": "python",
   "nbconvert_exporter": "python",
   "pygments_lexer": "ipython3",
   "version": "3.10.9"
  },
  "orig_nbformat": 4
 },
 "nbformat": 4,
 "nbformat_minor": 2
}
