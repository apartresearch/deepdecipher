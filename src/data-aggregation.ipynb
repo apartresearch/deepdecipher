{
 "cells": [
  {
   "cell_type": "code",
   "execution_count": 1,
   "metadata": {},
   "outputs": [],
   "source": [
    "# Extract data from az://openaipublic/neuron-explainer/data/collated-activations/1/1.json\n",
    "\n",
    "import json\n",
    "import pandas as pd\n",
    "import numpy as np\n",
    "import os\n",
    "import glob\n",
    "import re\n",
    "import sys\n",
    "import time\n",
    "import datetime\n",
    "import logging\n",
    "import argparse\n",
    "import subprocess"
   ]
  },
  {
   "cell_type": "code",
   "execution_count": 8,
   "metadata": {},
   "outputs": [],
   "source": [
    "# Download data from az://openaipublic/neuron-explainer/data/collated-activations/1/1.json\n",
    "# to local directory\n",
    "def download_data():\n",
    "    # Download data from Azure blob storage\n",
    "    cmd = \"azcopy copy \\\"https://openaipublic.blob.core.windows.net/neuron-explainer/data/collated-activations/{layer}/{neuron}.json\\\" \\\"./\\\"\"\n",
    "    subprocess.call(cmd, shell=True)\n"
   ]
  },
  {
   "cell_type": "code",
   "execution_count": 9,
   "metadata": {},
   "outputs": [
    {
     "name": "stdout",
     "output_type": "stream",
     "text": [
      "INFO: Scanning...\n",
      "INFO: Autologin not specified.\n",
      "INFO: Any empty folders will not be processed, because source and/or destination doesn't have full folder support\n",
      "\n",
      "Job 2b3da66a-154e-6145-6f85-4beaa59971e8 has started\n",
      "Log file is located at: /Users/esben/.azcopy/2b3da66a-154e-6145-6f85-4beaa59971e8.log\n",
      "\n",
      "100.0 %, 1 Done, 0 Failed, 0 Pending, 0 Skipped, 1 Total, 2-sec Throughput (Mb/s): 0.9432\n",
      "\n",
      "\n",
      "Job 2b3da66a-154e-6145-6f85-4beaa59971e8 summary\n",
      "Elapsed Time (Minutes): 0.0333\n",
      "Number of File Transfers: 1\n",
      "Number of Folder Property Transfers: 0\n",
      "Number of Symlink Transfers: 0\n",
      "Total Number of Transfers: 1\n",
      "Number of File Transfers Completed: 1\n",
      "Number of Folder Transfers Completed: 0\n",
      "Number of File Transfers Failed: 0\n",
      "Number of Folder Transfers Failed: 0\n",
      "Number of File Transfers Skipped: 0\n",
      "Number of Folder Transfers Skipped: 0\n",
      "TotalBytesTransferred: 235924\n",
      "Final Job Status: Completed\n",
      "\n"
     ]
    }
   ],
   "source": [
    "download_data()"
   ]
  },
  {
   "cell_type": "code",
   "execution_count": null,
   "metadata": {},
   "outputs": [],
   "source": []
  },
  {
   "cell_type": "code",
   "execution_count": null,
   "metadata": {},
   "outputs": [],
   "source": []
  },
  {
   "cell_type": "code",
   "execution_count": null,
   "metadata": {},
   "outputs": [],
   "source": []
  }
 ],
 "metadata": {
  "kernelspec": {
   "display_name": "base",
   "language": "python",
   "name": "python3"
  },
  "language_info": {
   "codemirror_mode": {
    "name": "ipython",
    "version": 3
   },
   "file_extension": ".py",
   "mimetype": "text/x-python",
   "name": "python",
   "nbconvert_exporter": "python",
   "pygments_lexer": "ipython3",
   "version": "3.10.9"
  },
  "orig_nbformat": 4
 },
 "nbformat": 4,
 "nbformat_minor": 2
}
