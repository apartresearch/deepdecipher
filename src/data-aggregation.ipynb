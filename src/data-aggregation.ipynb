{
 "cells": [
  {
   "cell_type": "code",
   "execution_count": 1,
   "metadata": {},
   "outputs": [],
   "source": [
    "# Extract data from az://openaipublic/neuron-explainer/data/collated-activations/1/1.json\n",
    "\n",
    "import json\n",
    "import pandas as pd\n",
    "import numpy as np\n",
    "import os\n",
    "import glob\n",
    "import re\n",
    "import sys\n",
    "import time\n",
    "import datetime\n",
    "import logging\n",
    "import argparse\n",
    "import subprocess"
   ]
  },
  {
   "cell_type": "code",
   "execution_count": 29,
   "metadata": {},
   "outputs": [],
   "source": [
    "# Set up GPT-2 XL tokenization\n",
    "from transformers import GPT2Tokenizer, GPT2Model\n",
    "tokenizer = GPT2Tokenizer.from_pretrained('gpt2-xl')\n",
    "\n",
    "# Download data from az://openaipublic/neuron-explainer/data/collated-activations/1/1.json\n",
    "# to local directory\n",
    "def download_data(layer, neuron, dir=\"../data\"):\n",
    "    # Download data from Azure blob storage\n",
    "    os.makedirs(dir, exist_ok=True)\n",
    "    print(layer, neuron)\n",
    "    cmd = f\"azcopy copy \\\"https://openaipublic.blob.core.windows.net/neuron-explainer/data/collated-activations/{layer}/{neuron}.json\\\" \\\"{dir}\\\"\"\n",
    "    subprocess.call(cmd, shell=True)\n",
    "\n",
    "def data_processing(data_dir, tokenizer = tokenizer, data_format = \"neuron-viewer\"):\n",
    "    # Read json data\n",
    "    with open(data_dir) as f:\n",
    "        data = json.load(f)\n"
   ]
  },
  {
   "cell_type": "code",
   "execution_count": null,
   "metadata": {},
   "outputs": [],
   "source": []
  },
  {
   "cell_type": "code",
   "execution_count": 28,
   "metadata": {},
   "outputs": [
    {
     "name": "stdout",
     "output_type": "stream",
     "text": [
      "2 6399\n",
      "INFO: Scanning...\n",
      "INFO: Autologin not specified.\n",
      "INFO: Any empty folders will not be processed, because source and/or destination doesn't have full folder support\n",
      "\n",
      "Job face1ccc-4521-1948-752a-6dd10e8d33fb has started\n",
      "Log file is located at: /Users/esben/.azcopy/face1ccc-4521-1948-752a-6dd10e8d33fb.log\n",
      "\n",
      "100.0 %, 1 Done, 0 Failed, 0 Pending, 0 Skipped, 1 Total, 2-sec Throughput (Mb/s): 0.9455\n",
      "\n",
      "\n",
      "Job face1ccc-4521-1948-752a-6dd10e8d33fb summary\n",
      "Elapsed Time (Minutes): 0.0334\n",
      "Number of File Transfers: 1\n",
      "Number of Folder Property Transfers: 0\n",
      "Number of Symlink Transfers: 0\n",
      "Total Number of Transfers: 1\n",
      "Number of File Transfers Completed: 1\n",
      "Number of Folder Transfers Completed: 0\n",
      "Number of File Transfers Failed: 0\n",
      "Number of Folder Transfers Failed: 0\n",
      "Number of File Transfers Skipped: 0\n",
      "Number of Folder Transfers Skipped: 0\n",
      "TotalBytesTransferred: 236547\n",
      "Final Job Status: Completed\n",
      "\n"
     ]
    }
   ],
   "source": [
    "current_dir = f\"{1}\"\n",
    "current_data = f\"{1}.json\"\n",
    "\n",
    "for l in range(1, 48):\n",
    "    current_dir = f\"../data/{l}\"\n",
    "    for n in range(0, 6400):\n",
    "        current_data = f\"../data/{l}/{n}.json\"\n",
    "        download_data(l,n, current_dir)\n",
    "        data_processing(current_data)"
   ]
  },
  {
   "cell_type": "code",
   "execution_count": null,
   "metadata": {},
   "outputs": [],
   "source": []
  },
  {
   "cell_type": "code",
   "execution_count": null,
   "metadata": {},
   "outputs": [],
   "source": []
  }
 ],
 "metadata": {
  "kernelspec": {
   "display_name": "base",
   "language": "python",
   "name": "python3"
  },
  "language_info": {
   "codemirror_mode": {
    "name": "ipython",
    "version": 3
   },
   "file_extension": ".py",
   "mimetype": "text/x-python",
   "name": "python",
   "nbconvert_exporter": "python",
   "pygments_lexer": "ipython3",
   "version": "3.10.9"
  },
  "orig_nbformat": 4
 },
 "nbformat": 4,
 "nbformat_minor": 2
}
